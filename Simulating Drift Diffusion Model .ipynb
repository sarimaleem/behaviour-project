{
 "cells": [
  {
   "cell_type": "markdown",
   "metadata": {},
   "source": [
    "# Loading the Functions"
   ]
  },
  {
   "cell_type": "code",
   "execution_count": 11,
   "metadata": {
    "ExecuteTime": {
     "end_time": "2019-07-18T17:50:41.966597Z",
     "start_time": "2019-07-18T17:50:41.963507Z"
    }
   },
   "outputs": [],
   "source": [
    "import numpy as np\n",
    "import matplotlib.pyplot as plt\n",
    "import seaborn as sns\n",
    "import numba\n",
    "import pandas as pd\n",
    "from numba import jit"
   ]
  },
  {
   "cell_type": "code",
   "execution_count": 17,
   "metadata": {
    "ExecuteTime": {
     "end_time": "2019-07-18T17:51:36.266565Z",
     "start_time": "2019-07-18T17:51:36.259617Z"
    }
   },
   "outputs": [],
   "source": [
    "def get_DDM_traces(v=1, z=0.5, dc=0, dc_slope=0, sv=0.1, noise_sd=1, stim=0, nr_trials=1000, tmax=5.0, dt=0.01):\n",
    "    \n",
    "    \"\"\"\n",
    "    DDM\n",
    "\n",
    "    v:  mean drift rate\n",
    "    z:  starting point\n",
    "    dc: drift criterion\n",
    "    \"\"\"\n",
    "    \n",
    "    if stim == 0:\n",
    "        v = np.random.normal(-v,sv,nr_trials)\n",
    "    elif stim == 1:\n",
    "        v = np.random.normal(v,sv,nr_trials)\n",
    "    x = np.zeros((nr_trials, int(tmax/dt)))\n",
    "    x[:,:] = np.NaN\n",
    "    x[:,0] = z\n",
    "    for i in range((int(tmax/dt))-1):\n",
    "        x[:,i+1] = x[:,i] + ((v + dc + (dc_slope*dt*i) ) * dt) + (np.random.normal(0,noise_sd,nr_trials)*np.sqrt(dt))\n",
    "    return x"
   ]
  },
  {
   "cell_type": "code",
   "execution_count": 18,
   "metadata": {
    "ExecuteTime": {
     "end_time": "2019-07-18T17:51:36.959730Z",
     "start_time": "2019-07-18T17:51:36.954781Z"
    }
   },
   "outputs": [],
   "source": [
    "def _bounds(a, lower_is_0=True, tmax=5, dt=0.01):\n",
    "    t = np.arange(0, tmax, dt)\n",
    "    b1 = np.ones(len(t)) * a\n",
    "    if lower_is_0:\n",
    "        b0 = np.zeros(len(t))\n",
    "    else:\n",
    "        b0 = -b1\n",
    "    return b1, b0"
   ]
  },
  {
   "cell_type": "code",
   "execution_count": 19,
   "metadata": {
    "ExecuteTime": {
     "end_time": "2019-07-18T17:51:37.553352Z",
     "start_time": "2019-07-18T17:51:37.547371Z"
    }
   },
   "outputs": [],
   "source": [
    "@jit(nopython=True)\n",
    "def apply_bounds_diff_trace(x, b1, b0):\n",
    "    rt = np.zeros(x.shape[0])\n",
    "    response = np.zeros(x.shape[0])\n",
    "    for i in range(x.shape[0]):\n",
    "        for j in range(x.shape[1]):\n",
    "            if x[i,j] >= b1[j]:\n",
    "                rt[i] = j\n",
    "                response[i] = 1\n",
    "                break\n",
    "            elif x[i,j] <= b0[j]:\n",
    "                rt[i] = j\n",
    "                response[i] = 0\n",
    "                break\n",
    "    return rt, response"
   ]
  },
  {
   "cell_type": "markdown",
   "metadata": {},
   "source": [
    "# Doing the Simulation"
   ]
  },
  {
   "cell_type": "code",
   "execution_count": 20,
   "metadata": {
    "ExecuteTime": {
     "end_time": "2019-07-18T17:51:48.037643Z",
     "start_time": "2019-07-18T17:51:47.794491Z"
    }
   },
   "outputs": [],
   "source": [
    "x = get_DDM_traces(v=1, z=0.5, dc=0, dc_slope=0, sv=0, noise_sd=1, stim=1, nr_trials=1000, tmax=5.0, dt=0.01)\n",
    "b1, b0 = _bounds(a=1, lower_is_0=True, tmax=5, dt=0.01)\n",
    "rt, response = apply_bounds_diff_trace(x, b1, b0)"
   ]
  },
  {
   "cell_type": "code",
   "execution_count": 24,
   "metadata": {
    "ExecuteTime": {
     "end_time": "2019-07-18T17:52:11.548785Z",
     "start_time": "2019-07-18T17:52:11.386116Z"
    }
   },
   "outputs": [
    {
     "data": {
      "text/plain": [
       "<matplotlib.legend.Legend at 0x2199eb85cf8>"
      ]
     },
     "execution_count": 24,
     "metadata": {},
     "output_type": "execute_result"
    },
    {
     "data": {
      "image/png": "[encoded data removed]",
      "text/plain": [
       "<Figure size 432x288 with 1 Axes>"
      ]
     },
     "metadata": {
      "needs_background": "light"
     },
     "output_type": "display_data"
    }
   ],
   "source": [
    "\n",
    "sns.distplot(rt[response ==1], hist=False, label = 'Correct Responses')\n",
    "sns.distplot(rt[response ==0], hist=False, label = 'Incorrect Responses')\n",
    "plt.legend()"
   ]
  },
  {
   "cell_type": "markdown",
   "metadata": {
    "ExecuteTime": {
     "end_time": "2019-07-16T16:50:06.470776Z",
     "start_time": "2019-07-16T16:50:06.457018Z"
    }
   },
   "source": [
    "# Creating a function to plot based on some variables"
   ]
  },
  {
   "cell_type": "code",
   "execution_count": 25,
   "metadata": {
    "ExecuteTime": {
     "end_time": "2019-07-18T17:52:15.214998Z",
     "start_time": "2019-07-18T17:52:15.210012Z"
    }
   },
   "outputs": [],
   "source": [
    "%matplotlib inline\n",
    "from ipywidgets import interact, interactive\n",
    "from IPython.display import clear_output, display, HTML\n",
    "import pandas as pd"
   ]
  },
  {
   "cell_type": "code",
   "execution_count": 34,
   "metadata": {
    "ExecuteTime": {
     "end_time": "2019-07-18T19:31:03.930659Z",
     "start_time": "2019-07-18T19:31:03.915662Z"
    }
   },
   "outputs": [],
   "source": [
    "import time\n",
    "def func(v, z, dc, a, ter):\n",
    "    \n",
    "    trials = 10000\n",
    "    \n",
    "    dt = 0.01\n",
    "    x = get_DDM_traces(v=v, z=z*a, dc=dc, dc_slope=0, sv=0, noise_sd=1, stim=1, nr_trials=trials, tmax=5.0, dt=0.01)\n",
    "    b1, b0 = _bounds(a=a, lower_is_0=True, tmax=5, dt=0.01)\n",
    "    rt, response = apply_bounds_diff_trace(x, b1, b0)\n",
    "    df1 = pd.DataFrame({'rt' : rt, 'response' : response})\n",
    "\n",
    "#     x = get_DDM_traces(v=v, z=z*a, dc=dc, dc_slope=0, sv=0, noise_sd=1, stim=0, nr_trials=trials, tmax=5.0, dt=0.01)\n",
    "#     b1, b0 = _bounds(a=a, lower_is_0=True, tmax=5, dt=0.01)\n",
    "#     rt, response = apply_bounds_diff_trace(x, b1, b0)\n",
    "#     df2 = pd.DataFrame({'rt' : rt, 'response' : response}, index = range(trials, trials*2))\n",
    "\n",
    "\n",
    "    df = df1 #df1.append(df2)\n",
    "    df['rt'] = (df['rt'] * 0.01) + ter\n",
    "    #df['stimulus'] = np.concatenate([np.ones(trials), np.zeros(trials)])\n",
    "    df['stimulus'] = np.ones(trials)\n",
    "    df['correct'] = df['response'] == df['stimulus']\n",
    "    df['rt quantiles'] = pd.qcut(df['rt'], 5, labels = False)\n",
    "\n",
    "\n",
    "    sns.kdeplot(df['rt'][df['correct']], label = 'correct')\n",
    "    sns.kdeplot(df['rt'][df['correct'] == False], label = 'incorrect')\n",
    "    plt.xlim([0, 5])\n",
    "    \n",
    "    plt.figure()\n",
    "    gb = df.groupby('rt quantiles').mean()\n",
    "    plt.plot(gb['correct'], 'ro-', linewidth = 0.5, markerfacecolor = 'none', markersize = 10, label ='accuracy', markeredgewidth = 2)\n",
    "    plt.plot(gb['response'], 'go-', linewidth = 0.5, markerfacecolor = 'none', markersize = 10, label = 'bias', markeredgewidth = 2)\n",
    "    plt.xticks(np.arange(0, 5))\n",
    "    plt.ylim([0, 1])\n",
    "    plt.legend()\n",
    "    \n",
    "    plt.figure()\n",
    "    plt.axhline(a, color = 'red')\n",
    "    plt.ylim([0, a + 0.1])\n",
    "    plt.xlim([0, 1])\n",
    "\n",
    "    x = np.zeros(200)\n",
    "    x[0] = z*a\n",
    "    for i in range(1, x.shape[0]):\n",
    "        x[i] = x[i-1] + (dc + v)*0.01\n",
    "    plt.plot(np.arange(0, 2, dt),  x, color = 'black')\n",
    "\n",
    "    x = np.zeros(200)\n",
    "    x[0] = z*a\n",
    "    for i in range(1, x.shape[0]):\n",
    "        x[i] = x[i-1] + (dc + -v)*0.01\n",
    "\n",
    "    plt.plot(np.arange(0, 2, dt),  x, color =  'black')\n",
    "    \n",
    "#     print(time.time() - start)"
   ]
  },
  {
   "cell_type": "code",
   "execution_count": 35,
   "metadata": {
    "ExecuteTime": {
     "end_time": "2019-07-18T19:31:05.289180Z",
     "start_time": "2019-07-18T19:31:04.579784Z"
    }
   },
   "outputs": [
    {
     "data": {
      "application/vnd.jupyter.widget-view+json": {
       "model_id": "6cd196499d90429d915a092c4c0f9edf",
       "version_major": 2,
       "version_minor": 0
      },
      "text/plain": [
       "interactive(children=(FloatSlider(value=1.0, description='v', max=2.0), FloatSlider(value=0.5, description='z'…"
      ]
     },
     "metadata": {},
     "output_type": "display_data"
    }
   ],
   "source": [
    "w = interactive(func, v= (0, 2.0),z= (0, 1.0) , dc = (-1.0, 1.0), a = (0.0, 3.0), ter = (0.0, 2.0))\n",
    "display(w)"
   ]
  },
  {
   "cell_type": "markdown",
   "metadata": {
    "ExecuteTime": {
     "end_time": "2019-07-16T19:51:54.610758Z",
     "start_time": "2019-07-16T19:51:54.598040Z"
    }
   },
   "source": [
    "# My code for experimenting with random stuff"
   ]
  },
  {
   "cell_type": "code",
   "execution_count": 18,
   "metadata": {
    "ExecuteTime": {
     "end_time": "2019-07-17T14:41:08.566651Z",
     "start_time": "2019-07-17T14:41:08.561497Z"
    }
   },
   "outputs": [],
   "source": [
    "zeros = pd.DataFrame({'a' : np.zeros(10)})"
   ]
  },
  {
   "cell_type": "code",
   "execution_count": 25,
   "metadata": {
    "ExecuteTime": {
     "end_time": "2019-07-17T14:46:44.817188Z",
     "start_time": "2019-07-17T14:46:44.808411Z"
    }
   },
   "outputs": [],
   "source": [
    "ones = pd.DataFrame({'a' : np.ones(10)}, index = range(10, 20))"
   ]
  },
  {
   "cell_type": "code",
   "execution_count": 26,
   "metadata": {
    "ExecuteTime": {
     "end_time": "2019-07-17T14:46:48.114330Z",
     "start_time": "2019-07-17T14:46:48.097806Z"
    }
   },
   "outputs": [
    {
     "data": {
      "text/html": [
       "<div>\n",
       "<style scoped>\n",
       "    .dataframe tbody tr th:only-of-type {\n",
       "        vertical-align: middle;\n",
       "    }\n",
       "\n",
       "    .dataframe tbody tr th {\n",
       "        vertical-align: top;\n",
       "    }\n",
       "\n",
       "    .dataframe thead th {\n",
       "        text-align: right;\n",
       "    }\n",
       "</style>\n",
       "<table border=\"1\" class=\"dataframe\">\n",
       "  <thead>\n",
       "    <tr style=\"text-align: right;\">\n",
       "      <th></th>\n",
       "      <th>a</th>\n",
       "    </tr>\n",
       "  </thead>\n",
       "  <tbody>\n",
       "    <tr>\n",
       "      <th>0</th>\n",
       "      <td>0.0</td>\n",
       "    </tr>\n",
       "    <tr>\n",
       "      <th>1</th>\n",
       "      <td>0.0</td>\n",
       "    </tr>\n",
       "    <tr>\n",
       "      <th>2</th>\n",
       "      <td>0.0</td>\n",
       "    </tr>\n",
       "    <tr>\n",
       "      <th>3</th>\n",
       "      <td>0.0</td>\n",
       "    </tr>\n",
       "    <tr>\n",
       "      <th>4</th>\n",
       "      <td>0.0</td>\n",
       "    </tr>\n",
       "    <tr>\n",
       "      <th>5</th>\n",
       "      <td>0.0</td>\n",
       "    </tr>\n",
       "    <tr>\n",
       "      <th>6</th>\n",
       "      <td>0.0</td>\n",
       "    </tr>\n",
       "    <tr>\n",
       "      <th>7</th>\n",
       "      <td>0.0</td>\n",
       "    </tr>\n",
       "    <tr>\n",
       "      <th>8</th>\n",
       "      <td>0.0</td>\n",
       "    </tr>\n",
       "    <tr>\n",
       "      <th>9</th>\n",
       "      <td>0.0</td>\n",
       "    </tr>\n",
       "    <tr>\n",
       "      <th>10</th>\n",
       "      <td>1.0</td>\n",
       "    </tr>\n",
       "    <tr>\n",
       "      <th>11</th>\n",
       "      <td>1.0</td>\n",
       "    </tr>\n",
       "    <tr>\n",
       "      <th>12</th>\n",
       "      <td>1.0</td>\n",
       "    </tr>\n",
       "    <tr>\n",
       "      <th>13</th>\n",
       "      <td>1.0</td>\n",
       "    </tr>\n",
       "    <tr>\n",
       "      <th>14</th>\n",
       "      <td>1.0</td>\n",
       "    </tr>\n",
       "    <tr>\n",
       "      <th>15</th>\n",
       "      <td>1.0</td>\n",
       "    </tr>\n",
       "    <tr>\n",
       "      <th>16</th>\n",
       "      <td>1.0</td>\n",
       "    </tr>\n",
       "    <tr>\n",
       "      <th>17</th>\n",
       "      <td>1.0</td>\n",
       "    </tr>\n",
       "    <tr>\n",
       "      <th>18</th>\n",
       "      <td>1.0</td>\n",
       "    </tr>\n",
       "    <tr>\n",
       "      <th>19</th>\n",
       "      <td>1.0</td>\n",
       "    </tr>\n",
       "  </tbody>\n",
       "</table>\n",
       "</div>"
      ],
      "text/plain": [
       "      a\n",
       "0   0.0\n",
       "1   0.0\n",
       "2   0.0\n",
       "3   0.0\n",
       "4   0.0\n",
       "5   0.0\n",
       "6   0.0\n",
       "7   0.0\n",
       "8   0.0\n",
       "9   0.0\n",
       "10  1.0\n",
       "11  1.0\n",
       "12  1.0\n",
       "13  1.0\n",
       "14  1.0\n",
       "15  1.0\n",
       "16  1.0\n",
       "17  1.0\n",
       "18  1.0\n",
       "19  1.0"
      ]
     },
     "execution_count": 26,
     "metadata": {},
     "output_type": "execute_result"
    }
   ],
   "source": [
    "pd.concat([zeros, ones])"
   ]
  },
  {
   "cell_type": "code",
   "execution_count": 35,
   "metadata": {
    "ExecuteTime": {
     "end_time": "2019-07-17T14:57:53.201460Z",
     "start_time": "2019-07-17T14:57:53.150276Z"
    }
   },
   "outputs": [],
   "source": [
    "x = get_DDM_traces(v=1, z=0.5, dc=0, dc_slope=0, sv=0, noise_sd=1, stim=1, nr_trials=1000, tmax=5.0, dt=0.01)\n",
    "b1, b0 = _bounds(a=3, lower_is_0=True, tmax=5, dt=0.01)\n",
    "rt, response = apply_bounds_diff_trace(x, b1, b0)"
   ]
  },
  {
   "cell_type": "code",
   "execution_count": 36,
   "metadata": {
    "ExecuteTime": {
     "end_time": "2019-07-17T14:57:53.730357Z",
     "start_time": "2019-07-17T14:57:53.369287Z"
    }
   },
   "outputs": [
    {
     "data": {
      "text/plain": [
       "<matplotlib.axes._subplots.AxesSubplot at 0x26e6efeaeb8>"
      ]
     },
     "execution_count": 36,
     "metadata": {},
     "output_type": "execute_result"
    },
    {
     "data": {
      "image/png": "[encoded data removed]",
      "text/plain": [
       "<Figure size 432x288 with 1 Axes>"
      ]
     },
     "metadata": {
      "needs_background": "light"
     },
     "output_type": "display_data"
    }
   ],
   "source": [
    "sns.kdeplot(rt)"
   ]
  },
  {
   "cell_type": "code",
   "execution_count": 37,
   "metadata": {
    "ExecuteTime": {
     "end_time": "2019-07-17T14:57:54.753503Z",
     "start_time": "2019-07-17T14:57:54.689350Z"
    }
   },
   "outputs": [],
   "source": [
    "x = get_DDM_traces(v=1, z=0.5, dc=0, dc_slope=0, sv=0, noise_sd=1, stim=0, nr_trials=1000, tmax=5.0, dt=0.01)\n",
    "b1, b0 = _bounds(a=3, lower_is_0=True, tmax=5, dt=0.01)\n",
    "rt, response = apply_bounds_diff_trace(x, b1, b0)"
   ]
  },
  {
   "cell_type": "code",
   "execution_count": 38,
   "metadata": {
    "ExecuteTime": {
     "end_time": "2019-07-17T14:57:55.389953Z",
     "start_time": "2019-07-17T14:57:55.079809Z"
    }
   },
   "outputs": [
    {
     "data": {
      "text/plain": [
       "<matplotlib.axes._subplots.AxesSubplot at 0x26e6ef95908>"
      ]
     },
     "execution_count": 38,
     "metadata": {},
     "output_type": "execute_result"
    },
    {
     "data": {
      "image/png": "[encoded data removed]",
      "text/plain": [
       "<Figure size 432x288 with 1 Axes>"
      ]
     },
     "metadata": {
      "needs_background": "light"
     },
     "output_type": "display_data"
    }
   ],
   "source": [
    "sns.kdeplot(rt)"
   ]
  },
  {
   "cell_type": "code",
   "execution_count": 112,
   "metadata": {
    "ExecuteTime": {
     "end_time": "2019-07-17T15:59:11.969574Z",
     "start_time": "2019-07-17T15:59:11.073993Z"
    }
   },
   "outputs": [
    {
     "data": {
      "text/plain": [
       "<matplotlib.legend.Legend at 0x26e6cf07978>"
      ]
     },
     "execution_count": 112,
     "metadata": {},
     "output_type": "execute_result"
    },
    {
     "data": {
      "image/png": "[encoded data removed]",
      "text/plain": [
       "<Figure size 432x288 with 1 Axes>"
      ]
     },
     "metadata": {
      "needs_background": "light"
     },
     "output_type": "display_data"
    },
    {
     "data": {
      "image/png": "[encoded data removed]",
      "text/plain": [
       "<Figure size 432x288 with 1 Axes>"
      ]
     },
     "metadata": {
      "needs_background": "light"
     },
     "output_type": "display_data"
    }
   ],
   "source": [
    "v = 0.5\n",
    "z = 0.6\n",
    "dc = 0\n",
    "trials = 1000\n",
    "\n",
    "x = get_DDM_traces(v=v, z=z, dc=dc, dc_slope=0, sv=0, noise_sd=1, stim=1, nr_trials=trials, tmax=5.0, dt=0.01)\n",
    "b1, b0 = _bounds(a=1, lower_is_0=True, tmax=5, dt=0.01)\n",
    "rt, response = apply_bounds_diff_trace(x, b1, b0)\n",
    "df1 = pd.DataFrame({'rt' : rt, 'response' : response})\n",
    "\n",
    "x = get_DDM_traces(v=v, z=z, dc=dc, dc_slope=0, sv=0, noise_sd=1, stim=0, nr_trials=trials, tmax=5.0, dt=0.01)\n",
    "b1, b0 = _bounds(a=1, lower_is_0=True, tmax=5, dt=0.01)\n",
    "rt, response = apply_bounds_diff_trace(x, b1, b0)\n",
    "df2 = pd.DataFrame({'rt' : rt, 'response' : response}, index = range(trials, trials*2))\n",
    "\n",
    "\n",
    "df = df1.append(df2)\n",
    "df['stimulus'] = np.concatenate([np.ones(trials), np.zeros(trials)])\n",
    "df['correct'] = df['response'] == df['stimulus']\n",
    "df['rt quantiles'] = pd.qcut(df['rt'], 5, labels = False)\n",
    "\n",
    "\n",
    "sns.kdeplot(df['rt'])\n",
    "\n",
    "plt.figure()\n",
    "gb = df.groupby('rt quantiles').mean()\n",
    "plt.plot(gb['correct'], 'o-', linewidth = 0.1, markerfacecolor = 'none', markersize = 10, label ='accuracy')\n",
    "plt.plot(gb['response'], 'o-', linewidth = 0.1, markerfacecolor = 'none', markersize = 10, label = 'bias')\n",
    "plt.legend()"
   ]
  },
  {
   "cell_type": "code",
   "execution_count": 67,
   "metadata": {
    "ExecuteTime": {
     "end_time": "2019-07-17T15:26:01.202861Z",
     "start_time": "2019-07-17T15:26:01.163976Z"
    }
   },
   "outputs": [
    {
     "data": {
      "text/html": [
       "<div>\n",
       "<style scoped>\n",
       "    .dataframe tbody tr th:only-of-type {\n",
       "        vertical-align: middle;\n",
       "    }\n",
       "\n",
       "    .dataframe tbody tr th {\n",
       "        vertical-align: top;\n",
       "    }\n",
       "\n",
       "    .dataframe thead th {\n",
       "        text-align: right;\n",
       "    }\n",
       "</style>\n",
       "<table border=\"1\" class=\"dataframe\">\n",
       "  <thead>\n",
       "    <tr style=\"text-align: right;\">\n",
       "      <th></th>\n",
       "      <th>rt</th>\n",
       "      <th>response</th>\n",
       "      <th>stimulus</th>\n",
       "      <th>correct</th>\n",
       "    </tr>\n",
       "  </thead>\n",
       "  <tbody>\n",
       "    <tr>\n",
       "      <th>0</th>\n",
       "      <td>7.0</td>\n",
       "      <td>1.0</td>\n",
       "      <td>1.0</td>\n",
       "      <td>True</td>\n",
       "    </tr>\n",
       "    <tr>\n",
       "      <th>1</th>\n",
       "      <td>33.0</td>\n",
       "      <td>1.0</td>\n",
       "      <td>1.0</td>\n",
       "      <td>True</td>\n",
       "    </tr>\n",
       "    <tr>\n",
       "      <th>2</th>\n",
       "      <td>11.0</td>\n",
       "      <td>1.0</td>\n",
       "      <td>1.0</td>\n",
       "      <td>True</td>\n",
       "    </tr>\n",
       "    <tr>\n",
       "      <th>3</th>\n",
       "      <td>78.0</td>\n",
       "      <td>1.0</td>\n",
       "      <td>1.0</td>\n",
       "      <td>True</td>\n",
       "    </tr>\n",
       "    <tr>\n",
       "      <th>4</th>\n",
       "      <td>64.0</td>\n",
       "      <td>0.0</td>\n",
       "      <td>1.0</td>\n",
       "      <td>False</td>\n",
       "    </tr>\n",
       "    <tr>\n",
       "      <th>5</th>\n",
       "      <td>33.0</td>\n",
       "      <td>1.0</td>\n",
       "      <td>1.0</td>\n",
       "      <td>True</td>\n",
       "    </tr>\n",
       "    <tr>\n",
       "      <th>6</th>\n",
       "      <td>25.0</td>\n",
       "      <td>1.0</td>\n",
       "      <td>1.0</td>\n",
       "      <td>True</td>\n",
       "    </tr>\n",
       "    <tr>\n",
       "      <th>7</th>\n",
       "      <td>52.0</td>\n",
       "      <td>1.0</td>\n",
       "      <td>1.0</td>\n",
       "      <td>True</td>\n",
       "    </tr>\n",
       "    <tr>\n",
       "      <th>8</th>\n",
       "      <td>27.0</td>\n",
       "      <td>1.0</td>\n",
       "      <td>1.0</td>\n",
       "      <td>True</td>\n",
       "    </tr>\n",
       "    <tr>\n",
       "      <th>9</th>\n",
       "      <td>17.0</td>\n",
       "      <td>1.0</td>\n",
       "      <td>1.0</td>\n",
       "      <td>True</td>\n",
       "    </tr>\n",
       "    <tr>\n",
       "      <th>10</th>\n",
       "      <td>64.0</td>\n",
       "      <td>0.0</td>\n",
       "      <td>1.0</td>\n",
       "      <td>False</td>\n",
       "    </tr>\n",
       "    <tr>\n",
       "      <th>11</th>\n",
       "      <td>33.0</td>\n",
       "      <td>1.0</td>\n",
       "      <td>1.0</td>\n",
       "      <td>True</td>\n",
       "    </tr>\n",
       "    <tr>\n",
       "      <th>12</th>\n",
       "      <td>55.0</td>\n",
       "      <td>0.0</td>\n",
       "      <td>1.0</td>\n",
       "      <td>False</td>\n",
       "    </tr>\n",
       "    <tr>\n",
       "      <th>13</th>\n",
       "      <td>33.0</td>\n",
       "      <td>0.0</td>\n",
       "      <td>1.0</td>\n",
       "      <td>False</td>\n",
       "    </tr>\n",
       "    <tr>\n",
       "      <th>14</th>\n",
       "      <td>38.0</td>\n",
       "      <td>1.0</td>\n",
       "      <td>1.0</td>\n",
       "      <td>True</td>\n",
       "    </tr>\n",
       "    <tr>\n",
       "      <th>15</th>\n",
       "      <td>58.0</td>\n",
       "      <td>1.0</td>\n",
       "      <td>1.0</td>\n",
       "      <td>True</td>\n",
       "    </tr>\n",
       "    <tr>\n",
       "      <th>16</th>\n",
       "      <td>37.0</td>\n",
       "      <td>1.0</td>\n",
       "      <td>1.0</td>\n",
       "      <td>True</td>\n",
       "    </tr>\n",
       "    <tr>\n",
       "      <th>17</th>\n",
       "      <td>46.0</td>\n",
       "      <td>1.0</td>\n",
       "      <td>1.0</td>\n",
       "      <td>True</td>\n",
       "    </tr>\n",
       "    <tr>\n",
       "      <th>18</th>\n",
       "      <td>60.0</td>\n",
       "      <td>0.0</td>\n",
       "      <td>1.0</td>\n",
       "      <td>False</td>\n",
       "    </tr>\n",
       "    <tr>\n",
       "      <th>19</th>\n",
       "      <td>18.0</td>\n",
       "      <td>1.0</td>\n",
       "      <td>1.0</td>\n",
       "      <td>True</td>\n",
       "    </tr>\n",
       "    <tr>\n",
       "      <th>20</th>\n",
       "      <td>34.0</td>\n",
       "      <td>1.0</td>\n",
       "      <td>1.0</td>\n",
       "      <td>True</td>\n",
       "    </tr>\n",
       "    <tr>\n",
       "      <th>21</th>\n",
       "      <td>7.0</td>\n",
       "      <td>1.0</td>\n",
       "      <td>1.0</td>\n",
       "      <td>True</td>\n",
       "    </tr>\n",
       "    <tr>\n",
       "      <th>22</th>\n",
       "      <td>70.0</td>\n",
       "      <td>1.0</td>\n",
       "      <td>1.0</td>\n",
       "      <td>True</td>\n",
       "    </tr>\n",
       "    <tr>\n",
       "      <th>23</th>\n",
       "      <td>16.0</td>\n",
       "      <td>0.0</td>\n",
       "      <td>1.0</td>\n",
       "      <td>False</td>\n",
       "    </tr>\n",
       "    <tr>\n",
       "      <th>24</th>\n",
       "      <td>41.0</td>\n",
       "      <td>1.0</td>\n",
       "      <td>1.0</td>\n",
       "      <td>True</td>\n",
       "    </tr>\n",
       "    <tr>\n",
       "      <th>25</th>\n",
       "      <td>18.0</td>\n",
       "      <td>1.0</td>\n",
       "      <td>1.0</td>\n",
       "      <td>True</td>\n",
       "    </tr>\n",
       "    <tr>\n",
       "      <th>26</th>\n",
       "      <td>38.0</td>\n",
       "      <td>1.0</td>\n",
       "      <td>1.0</td>\n",
       "      <td>True</td>\n",
       "    </tr>\n",
       "    <tr>\n",
       "      <th>27</th>\n",
       "      <td>79.0</td>\n",
       "      <td>0.0</td>\n",
       "      <td>1.0</td>\n",
       "      <td>False</td>\n",
       "    </tr>\n",
       "    <tr>\n",
       "      <th>28</th>\n",
       "      <td>3.0</td>\n",
       "      <td>1.0</td>\n",
       "      <td>1.0</td>\n",
       "      <td>True</td>\n",
       "    </tr>\n",
       "    <tr>\n",
       "      <th>29</th>\n",
       "      <td>32.0</td>\n",
       "      <td>0.0</td>\n",
       "      <td>1.0</td>\n",
       "      <td>False</td>\n",
       "    </tr>\n",
       "    <tr>\n",
       "      <th>...</th>\n",
       "      <td>...</td>\n",
       "      <td>...</td>\n",
       "      <td>...</td>\n",
       "      <td>...</td>\n",
       "    </tr>\n",
       "    <tr>\n",
       "      <th>1970</th>\n",
       "      <td>6.0</td>\n",
       "      <td>1.0</td>\n",
       "      <td>0.0</td>\n",
       "      <td>False</td>\n",
       "    </tr>\n",
       "    <tr>\n",
       "      <th>1971</th>\n",
       "      <td>122.0</td>\n",
       "      <td>0.0</td>\n",
       "      <td>0.0</td>\n",
       "      <td>True</td>\n",
       "    </tr>\n",
       "    <tr>\n",
       "      <th>1972</th>\n",
       "      <td>14.0</td>\n",
       "      <td>1.0</td>\n",
       "      <td>0.0</td>\n",
       "      <td>False</td>\n",
       "    </tr>\n",
       "    <tr>\n",
       "      <th>1973</th>\n",
       "      <td>19.0</td>\n",
       "      <td>1.0</td>\n",
       "      <td>0.0</td>\n",
       "      <td>False</td>\n",
       "    </tr>\n",
       "    <tr>\n",
       "      <th>1974</th>\n",
       "      <td>19.0</td>\n",
       "      <td>0.0</td>\n",
       "      <td>0.0</td>\n",
       "      <td>True</td>\n",
       "    </tr>\n",
       "    <tr>\n",
       "      <th>1975</th>\n",
       "      <td>12.0</td>\n",
       "      <td>0.0</td>\n",
       "      <td>0.0</td>\n",
       "      <td>True</td>\n",
       "    </tr>\n",
       "    <tr>\n",
       "      <th>1976</th>\n",
       "      <td>9.0</td>\n",
       "      <td>1.0</td>\n",
       "      <td>0.0</td>\n",
       "      <td>False</td>\n",
       "    </tr>\n",
       "    <tr>\n",
       "      <th>1977</th>\n",
       "      <td>20.0</td>\n",
       "      <td>1.0</td>\n",
       "      <td>0.0</td>\n",
       "      <td>False</td>\n",
       "    </tr>\n",
       "    <tr>\n",
       "      <th>1978</th>\n",
       "      <td>55.0</td>\n",
       "      <td>0.0</td>\n",
       "      <td>0.0</td>\n",
       "      <td>True</td>\n",
       "    </tr>\n",
       "    <tr>\n",
       "      <th>1979</th>\n",
       "      <td>61.0</td>\n",
       "      <td>1.0</td>\n",
       "      <td>0.0</td>\n",
       "      <td>False</td>\n",
       "    </tr>\n",
       "    <tr>\n",
       "      <th>1980</th>\n",
       "      <td>40.0</td>\n",
       "      <td>1.0</td>\n",
       "      <td>0.0</td>\n",
       "      <td>False</td>\n",
       "    </tr>\n",
       "    <tr>\n",
       "      <th>1981</th>\n",
       "      <td>24.0</td>\n",
       "      <td>0.0</td>\n",
       "      <td>0.0</td>\n",
       "      <td>True</td>\n",
       "    </tr>\n",
       "    <tr>\n",
       "      <th>1982</th>\n",
       "      <td>30.0</td>\n",
       "      <td>0.0</td>\n",
       "      <td>0.0</td>\n",
       "      <td>True</td>\n",
       "    </tr>\n",
       "    <tr>\n",
       "      <th>1983</th>\n",
       "      <td>37.0</td>\n",
       "      <td>0.0</td>\n",
       "      <td>0.0</td>\n",
       "      <td>True</td>\n",
       "    </tr>\n",
       "    <tr>\n",
       "      <th>1984</th>\n",
       "      <td>12.0</td>\n",
       "      <td>1.0</td>\n",
       "      <td>0.0</td>\n",
       "      <td>False</td>\n",
       "    </tr>\n",
       "    <tr>\n",
       "      <th>1985</th>\n",
       "      <td>10.0</td>\n",
       "      <td>1.0</td>\n",
       "      <td>0.0</td>\n",
       "      <td>False</td>\n",
       "    </tr>\n",
       "    <tr>\n",
       "      <th>1986</th>\n",
       "      <td>75.0</td>\n",
       "      <td>1.0</td>\n",
       "      <td>0.0</td>\n",
       "      <td>False</td>\n",
       "    </tr>\n",
       "    <tr>\n",
       "      <th>1987</th>\n",
       "      <td>43.0</td>\n",
       "      <td>1.0</td>\n",
       "      <td>0.0</td>\n",
       "      <td>False</td>\n",
       "    </tr>\n",
       "    <tr>\n",
       "      <th>1988</th>\n",
       "      <td>76.0</td>\n",
       "      <td>0.0</td>\n",
       "      <td>0.0</td>\n",
       "      <td>True</td>\n",
       "    </tr>\n",
       "    <tr>\n",
       "      <th>1989</th>\n",
       "      <td>19.0</td>\n",
       "      <td>0.0</td>\n",
       "      <td>0.0</td>\n",
       "      <td>True</td>\n",
       "    </tr>\n",
       "    <tr>\n",
       "      <th>1990</th>\n",
       "      <td>64.0</td>\n",
       "      <td>0.0</td>\n",
       "      <td>0.0</td>\n",
       "      <td>True</td>\n",
       "    </tr>\n",
       "    <tr>\n",
       "      <th>1991</th>\n",
       "      <td>7.0</td>\n",
       "      <td>1.0</td>\n",
       "      <td>0.0</td>\n",
       "      <td>False</td>\n",
       "    </tr>\n",
       "    <tr>\n",
       "      <th>1992</th>\n",
       "      <td>9.0</td>\n",
       "      <td>1.0</td>\n",
       "      <td>0.0</td>\n",
       "      <td>False</td>\n",
       "    </tr>\n",
       "    <tr>\n",
       "      <th>1993</th>\n",
       "      <td>22.0</td>\n",
       "      <td>1.0</td>\n",
       "      <td>0.0</td>\n",
       "      <td>False</td>\n",
       "    </tr>\n",
       "    <tr>\n",
       "      <th>1994</th>\n",
       "      <td>29.0</td>\n",
       "      <td>1.0</td>\n",
       "      <td>0.0</td>\n",
       "      <td>False</td>\n",
       "    </tr>\n",
       "    <tr>\n",
       "      <th>1995</th>\n",
       "      <td>22.0</td>\n",
       "      <td>0.0</td>\n",
       "      <td>0.0</td>\n",
       "      <td>True</td>\n",
       "    </tr>\n",
       "    <tr>\n",
       "      <th>1996</th>\n",
       "      <td>51.0</td>\n",
       "      <td>0.0</td>\n",
       "      <td>0.0</td>\n",
       "      <td>True</td>\n",
       "    </tr>\n",
       "    <tr>\n",
       "      <th>1997</th>\n",
       "      <td>47.0</td>\n",
       "      <td>0.0</td>\n",
       "      <td>0.0</td>\n",
       "      <td>True</td>\n",
       "    </tr>\n",
       "    <tr>\n",
       "      <th>1998</th>\n",
       "      <td>80.0</td>\n",
       "      <td>0.0</td>\n",
       "      <td>0.0</td>\n",
       "      <td>True</td>\n",
       "    </tr>\n",
       "    <tr>\n",
       "      <th>1999</th>\n",
       "      <td>14.0</td>\n",
       "      <td>1.0</td>\n",
       "      <td>0.0</td>\n",
       "      <td>False</td>\n",
       "    </tr>\n",
       "  </tbody>\n",
       "</table>\n",
       "<p>2000 rows × 4 columns</p>\n",
       "</div>"
      ],
      "text/plain": [
       "         rt  response  stimulus  correct\n",
       "0       7.0       1.0       1.0     True\n",
       "1      33.0       1.0       1.0     True\n",
       "2      11.0       1.0       1.0     True\n",
       "3      78.0       1.0       1.0     True\n",
       "4      64.0       0.0       1.0    False\n",
       "5      33.0       1.0       1.0     True\n",
       "6      25.0       1.0       1.0     True\n",
       "7      52.0       1.0       1.0     True\n",
       "8      27.0       1.0       1.0     True\n",
       "9      17.0       1.0       1.0     True\n",
       "10     64.0       0.0       1.0    False\n",
       "11     33.0       1.0       1.0     True\n",
       "12     55.0       0.0       1.0    False\n",
       "13     33.0       0.0       1.0    False\n",
       "14     38.0       1.0       1.0     True\n",
       "15     58.0       1.0       1.0     True\n",
       "16     37.0       1.0       1.0     True\n",
       "17     46.0       1.0       1.0     True\n",
       "18     60.0       0.0       1.0    False\n",
       "19     18.0       1.0       1.0     True\n",
       "20     34.0       1.0       1.0     True\n",
       "21      7.0       1.0       1.0     True\n",
       "22     70.0       1.0       1.0     True\n",
       "23     16.0       0.0       1.0    False\n",
       "24     41.0       1.0       1.0     True\n",
       "25     18.0       1.0       1.0     True\n",
       "26     38.0       1.0       1.0     True\n",
       "27     79.0       0.0       1.0    False\n",
       "28      3.0       1.0       1.0     True\n",
       "29     32.0       0.0       1.0    False\n",
       "...     ...       ...       ...      ...\n",
       "1970    6.0       1.0       0.0    False\n",
       "1971  122.0       0.0       0.0     True\n",
       "1972   14.0       1.0       0.0    False\n",
       "1973   19.0       1.0       0.0    False\n",
       "1974   19.0       0.0       0.0     True\n",
       "1975   12.0       0.0       0.0     True\n",
       "1976    9.0       1.0       0.0    False\n",
       "1977   20.0       1.0       0.0    False\n",
       "1978   55.0       0.0       0.0     True\n",
       "1979   61.0       1.0       0.0    False\n",
       "1980   40.0       1.0       0.0    False\n",
       "1981   24.0       0.0       0.0     True\n",
       "1982   30.0       0.0       0.0     True\n",
       "1983   37.0       0.0       0.0     True\n",
       "1984   12.0       1.0       0.0    False\n",
       "1985   10.0       1.0       0.0    False\n",
       "1986   75.0       1.0       0.0    False\n",
       "1987   43.0       1.0       0.0    False\n",
       "1988   76.0       0.0       0.0     True\n",
       "1989   19.0       0.0       0.0     True\n",
       "1990   64.0       0.0       0.0     True\n",
       "1991    7.0       1.0       0.0    False\n",
       "1992    9.0       1.0       0.0    False\n",
       "1993   22.0       1.0       0.0    False\n",
       "1994   29.0       1.0       0.0    False\n",
       "1995   22.0       0.0       0.0     True\n",
       "1996   51.0       0.0       0.0     True\n",
       "1997   47.0       0.0       0.0     True\n",
       "1998   80.0       0.0       0.0     True\n",
       "1999   14.0       1.0       0.0    False\n",
       "\n",
       "[2000 rows x 4 columns]"
      ]
     },
     "execution_count": 67,
     "metadata": {},
     "output_type": "execute_result"
    }
   ],
   "source": [
    "df"
   ]
  },
  {
   "cell_type": "code",
   "execution_count": 96,
   "metadata": {
    "ExecuteTime": {
     "end_time": "2019-07-17T15:40:17.540789Z",
     "start_time": "2019-07-17T15:40:17.233053Z"
    }
   },
   "outputs": [
    {
     "data": {
      "text/plain": [
       "[<matplotlib.lines.Line2D at 0x26e6b056e80>]"
      ]
     },
     "execution_count": 96,
     "metadata": {},
     "output_type": "execute_result"
    },
    {
     "data": {
      "image/png": "[encoded data removed]",
      "text/plain": [
       "<Figure size 432x288 with 1 Axes>"
      ]
     },
     "metadata": {
      "needs_background": "light"
     },
     "output_type": "display_data"
    }
   ],
   "source": [
    "v = 1\n",
    "z = 0.6\n",
    "dc = 0.5\n",
    "a = 1\n",
    "dt = 0.01\n",
    "\n",
    "plt.axhline(a, color = 'red')\n",
    "plt.ylim([0, 1.1])\n",
    "plt.xlim([0, 1])\n",
    "\n",
    "x = np.zeros(100)\n",
    "x[0] = z\n",
    "for i in range(1, x.shape[0]):\n",
    "    x[i] = x[i-1] + (dc + v)*0.01\n",
    "plt.plot(np.arange(0, 1, dt),  x, color = 'black')\n",
    "    \n",
    "x = np.zeros(100)\n",
    "x[0] = z\n",
    "for i in range(1, x.shape[0]):\n",
    "    x[i] = x[i-1] + (dc + -v)*0.01\n",
    "\n",
    "plt.plot(np.arange(0, 1, dt),  x, color =  'black')\n",
    "\n",
    "\n"
   ]
  },
  {
   "cell_type": "code",
   "execution_count": 86,
   "metadata": {
    "ExecuteTime": {
     "end_time": "2019-07-17T15:35:48.849383Z",
     "start_time": "2019-07-17T15:35:48.839933Z"
    }
   },
   "outputs": [
    {
     "data": {
      "text/plain": [
       "(100,)"
      ]
     },
     "execution_count": 86,
     "metadata": {},
     "output_type": "execute_result"
    }
   ],
   "source": [
    "\n",
    "\n",
    "np.arange(0,1, 0.01)\n",
    "    "
   ]
  },
  {
   "cell_type": "code",
   "execution_count": 83,
   "metadata": {
    "ExecuteTime": {
     "end_time": "2019-07-17T15:34:37.995698Z",
     "start_time": "2019-07-17T15:34:37.981606Z"
    }
   },
   "outputs": [
    {
     "data": {
      "text/plain": [
       "array([0.6  , 0.605, 0.61 , 0.615, 0.62 , 0.625, 0.63 , 0.635, 0.64 ,\n",
       "       0.645, 0.65 , 0.655, 0.66 , 0.665, 0.67 , 0.675, 0.68 , 0.685,\n",
       "       0.69 , 0.695, 0.7  , 0.705, 0.71 , 0.715, 0.72 , 0.725, 0.73 ,\n",
       "       0.735, 0.74 , 0.745, 0.75 , 0.755, 0.76 , 0.765, 0.77 , 0.775,\n",
       "       0.78 , 0.785, 0.79 , 0.795, 0.8  , 0.805, 0.81 , 0.815, 0.82 ,\n",
       "       0.825, 0.83 , 0.835, 0.84 , 0.845, 0.85 , 0.855, 0.86 , 0.865,\n",
       "       0.87 , 0.875, 0.88 , 0.885, 0.89 , 0.895, 0.9  , 0.905, 0.91 ,\n",
       "       0.915, 0.92 , 0.925, 0.93 , 0.935, 0.94 , 0.945, 0.95 , 0.955,\n",
       "       0.96 , 0.965, 0.97 , 0.975, 0.98 , 0.985, 0.99 , 0.995, 1.   ,\n",
       "       1.005, 1.01 , 1.015, 1.02 , 1.025, 1.03 , 1.035, 1.04 , 1.045,\n",
       "       1.05 , 1.055, 1.06 , 1.065, 1.07 , 1.075, 1.08 , 1.085, 1.09 ,\n",
       "       1.095])"
      ]
     },
     "execution_count": 83,
     "metadata": {},
     "output_type": "execute_result"
    }
   ],
   "source": []
  },
  {
   "cell_type": "markdown",
   "metadata": {},
   "source": [
    "# Testing some numba stuff"
   ]
  },
  {
   "cell_type": "code",
   "execution_count": 151,
   "metadata": {
    "ExecuteTime": {
     "end_time": "2019-07-17T17:49:40.610249Z",
     "start_time": "2019-07-17T17:49:40.601872Z"
    }
   },
   "outputs": [],
   "source": [
    "import numba\n",
    "\n",
    "@numba.njit\n",
    "def testNumba():\n",
    "    for i in range(1000):\n",
    "        for j in range(1000):\n",
    "            for k in range(100):\n",
    "                i + j + k"
   ]
  },
  {
   "cell_type": "code",
   "execution_count": 154,
   "metadata": {
    "ExecuteTime": {
     "end_time": "2019-07-17T17:49:44.472333Z",
     "start_time": "2019-07-17T17:49:44.466587Z"
    }
   },
   "outputs": [],
   "source": [
    "testNumba()"
   ]
  },
  {
   "cell_type": "code",
   "execution_count": 145,
   "metadata": {
    "ExecuteTime": {
     "end_time": "2019-07-17T17:49:22.774079Z",
     "start_time": "2019-07-17T17:49:22.760175Z"
    }
   },
   "outputs": [],
   "source": [
    "from numba import autojit, prange\n",
    "\n",
    "@autojit\n",
    "def testNumba():\n",
    "    for i in prange(1000):\n",
    "        for j in prange(1000):\n",
    "            for k in prange(100):\n",
    "                i + j + k    \n"
   ]
  },
  {
   "cell_type": "code",
   "execution_count": 150,
   "metadata": {
    "ExecuteTime": {
     "end_time": "2019-07-17T17:49:38.193608Z",
     "start_time": "2019-07-17T17:49:38.186699Z"
    }
   },
   "outputs": [],
   "source": [
    "testNumba()"
   ]
  },
  {
   "cell_type": "markdown",
   "metadata": {},
   "source": [
    "# Changing the DDM Trace Function"
   ]
  },
  {
   "cell_type": "code",
   "execution_count": 215,
   "metadata": {
    "ExecuteTime": {
     "end_time": "2019-07-17T20:08:39.897274Z",
     "start_time": "2019-07-17T20:08:39.886868Z"
    }
   },
   "outputs": [],
   "source": [
    "import numba\n",
    "\n",
    "def get_sim_noise(trials=1000, stimulus=1, noise_sd=1, start_stim = 1, end_stim = 4, tmax = 5, dt = 0.01):\n",
    "    noise = np.zeros(shape = (trials, int(tmax/dt)))\n",
    "    \n",
    "    if stimulus == 1:\n",
    "        start = int(start_stim / dt)\n",
    "        end = int(end_stim / dt)\n",
    "        noise[:, start:end] = 1\n",
    "    \n",
    "    for i in range(int(tmax/dt)):\n",
    "        noise[:, i] += np.random.normal(0, noise_sd, trials)*np.sqrt(dt)    \n",
    "    \n",
    "    return noise"
   ]
  },
  {
   "cell_type": "code",
   "execution_count": null,
   "metadata": {},
   "outputs": [],
   "source": [
    "def get_DDM_traces_noise(v, z=0.5, a=1,. dc=0, dc_slope=0, sv=0.1, noise_sd=1, nr_trials=1000, tmax=5.0, dt=0.01):\n",
    "    \n",
    "    \"\"\"\n",
    "    DDM\n",
    "\n",
    "    v:  mean drift rate\n",
    "    z:  starting point\n",
    "    dc: drift criterion\n",
    "    \"\"\"\n",
    "    x = np.zeros((nr_trials, int(tmax/dt)))\n",
    "    x[:,:] = np.NaN\n",
    "    x[:,0] = z*a\n",
    "    for i in range(1, int(tmax/dt)):\n",
    "        x[:,i] += ((v[:, i] + dc + (dc_slope*dt*i) ) * dt)\n",
    "    return x"
   ]
  },
  {
   "cell_type": "code",
   "execution_count": null,
   "metadata": {},
   "outputs": [],
   "source": []
  }
 ],
 "metadata": {
  "hide_input": false,
  "kernelspec": {
   "display_name": "'Python Interactive'",
   "language": "python",
   "name": "17faf229-12b8-46cd-bbc1-37330336d1c6"
  },
  "language_info": {
   "codemirror_mode": {
    "name": "ipython",
    "version": 3
   },
   "file_extension": ".py",
   "mimetype": "text/x-python",
   "name": "python",
   "nbconvert_exporter": "python",
   "pygments_lexer": "ipython3",
   "version": "3.7.3"
  },
  "latex_envs": {
   "LaTeX_envs_menu_present": true,
   "autoclose": true,
   "autocomplete": true,
   "bibliofile": "biblio.bib",
   "cite_by": "apalike",
   "current_citInitial": 1,
   "eqLabelWithNumbers": true,
   "eqNumInitial": 1,
   "hotkeys": {
    "equation": "Ctrl-E",
    "itemize": "Ctrl-I"
   },
   "labels_anchors": false,
   "latex_user_defs": false,
   "report_style_numbering": false,
   "user_envs_cfg": false
  },
  "toc": {
   "base_numbering": 1,
   "nav_menu": {},
   "number_sections": true,
   "sideBar": true,
   "skip_h1_title": false,
   "title_cell": "Table of Contents",
   "title_sidebar": "Contents",
   "toc_cell": false,
   "toc_position": {
    "height": "calc(100% - 180px)",
    "left": "10px",
    "top": "150px",
    "width": "512px"
   },
   "toc_section_display": true,
   "toc_window_display": true
  },
  "varInspector": {
   "cols": {
    "lenName": 16,
    "lenType": 16,
    "lenVar": 40
   },
   "kernels_config": {
    "python": {
     "delete_cmd_postfix": "",
     "delete_cmd_prefix": "del ",
     "library": "var_list.py",
     "varRefreshCmd": "print(var_dic_list())"
    },
    "r": {
     "delete_cmd_postfix": ") ",
     "delete_cmd_prefix": "rm(",
     "library": "var_list.r",
     "varRefreshCmd": "cat(var_dic_list()) "
    }
   },
   "position": {
    "height": "802px",
    "left": "2147px",
    "right": "20px",
    "top": "92px",
    "width": "350px"
   },
   "types_to_exclude": [
    "module",
    "function",
    "builtin_function_or_method",
    "instance",
    "_Feature"
   ],
   "window_display": true
  }
 },
 "nbformat": 4,
 "nbformat_minor": 2
}
