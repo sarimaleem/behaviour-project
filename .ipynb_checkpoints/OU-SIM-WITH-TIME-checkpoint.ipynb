{
 "cells": [
  {
   "cell_type": "code",
   "execution_count": 1,
   "metadata": {},
   "outputs": [],
   "source": [
    "import numpy as np\n",
    "import matplotlib.pyplot as plt\n",
    "import seaborn as sns\n",
    "import pandas as pd\n",
    "from numba import jit\n",
    "import time\n",
    "\n",
    "%matplotlib inline"
   ]
  },
  {
   "cell_type": "code",
   "execution_count": 2,
   "metadata": {},
   "outputs": [],
   "source": [
    "@jit(nopython=True)\n",
    "def generate_v_OU(nr_trials=1000, noise_sd=1, tmax=5, dt=0.01, start=2, end=5):\n",
    "    \n",
    "    assert start <= tmax, 'start more than tmax'\n",
    "    assert end <= tmax, 'end more than than tmax'\n",
    "    assert start < end, 'are you high?'\n",
    "    \n",
    "    \n",
    "    start = int(start/dt)\n",
    "    end = int(end/dt)\n",
    "    sim_time = int(tmax/dt)\n",
    "    \n",
    "    \n",
    "    v = np.zeros(shape=(2, nr_trials, sim_time))\n",
    "    v[0, :, start:end] = 1*dt\n",
    "    \n",
    "    \n",
    "    v += np.random.normal(loc=0, scale=noise_sd/np.sqrt(2), size=v.shape)*np.sqrt(dt)\n",
    "    return v\n",
    "    \n",
    "    \n",
    "@jit(nopython=True)   \n",
    "def get_OU_traces(v, ll, dc, z, noise_sd=1, pre_generated=False, nr_trials=1000, tmax=5.0, dt=0.01):\n",
    "    \n",
    "    \n",
    "    x1 = np.zeros((nr_trials, int(tmax/dt)))\n",
    "    x2 = np.zeros((nr_trials, int(tmax/dt)))\n",
    "    x1[:,:] = np.NaN\n",
    "    x2[:,:] = np.NaN\n",
    "    x1[:,0] = z[0]\n",
    "    x2[:,0] = z[1]\n",
    "    for i in range((int(tmax/dt))-1):\n",
    "        if pre_generated:\n",
    "            x1[:,i+1] = x1[:,i] + v[0][:,i] + (dc[0] - (ll[0]*x1[:,i]))*dt\n",
    "            x2[:,i+1] = x2[:,i] + v[1][:,i] + (dc[1] - (ll[1]*x2[:,i]))*dt\n",
    "        else:\n",
    "            x1[:,i+1] = x1[:,i] + ((v[0] + dc[0] - (ll[0]*x1[:,i])) * dt) +(np.random.normal(0,noise_sd/np.sqrt(2),nr_trials)*np.sqrt(dt))\n",
    "            x2[:,i+1] = x2[:,i] + ((v[1] + dc[1] - (ll[1]*x2[:,i])) * dt) + (np.random.normal(0,noise_sd/np.sqrt(2),nr_trials)*np.sqrt(dt))\n",
    "    return x1-x2\n",
    "\n",
    "@jit(nopython=True)\n",
    "def apply_bounds_diff_trace(x, b1, b0):\n",
    "    rt = np.zeros(x.shape[0])\n",
    "    rt[:] = np.nan\n",
    "    response = np.zeros(x.shape[0])\n",
    "    for i in range(x.shape[0]):\n",
    "        for j in range(x.shape[1]):\n",
    "            if x[i,j] >= b1[j]:\n",
    "                rt[i] = j\n",
    "                response[i] = 1\n",
    "                break\n",
    "    return rt, response\n",
    "\n",
    "\n",
    "\n",
    "def sim(v, ll1, ll2,trials, start, end, tmax, dt):\n",
    "    \n",
    "    ll = np.array([ll1, ll2])\n",
    "    dc = np.array([0.0, 0.0])\n",
    "    z = np.array([0.0, 0.0])\n",
    "\n",
    "    \n",
    "    x = get_OU_traces(v=v, ll=ll, dc=dc, z=z, pre_generated=True, nr_trials=trials, tmax = tmax, dt=dt)\n",
    "    b1 = np.ones(x.shape[1])\n",
    "    b0 = np.ones(x.shape[1]) * -1\n",
    "    rt, response = apply_bounds_diff_trace(x, b1, b0)\n",
    "    df = pd.DataFrame()\n",
    "    df['rt'] = rt * dt\n",
    "    df['response'] = response\n",
    "    \n",
    "    df['false alarm'] = (df['response'] == 1) & (df['rt'] < start)\n",
    "    df['hit'] = (df['response'] == 1) & (df['rt'] >= start) & (df['rt'] <= end)\n",
    "    df['miss'] = (~df['hit']) & (~df['false alarm'])\n",
    "    #df['rt quantile'] = pd.qcut(df['rt'], 5, labels=False)\n",
    "    \n",
    "    return (x, df, df['false alarm'].mean(), df['hit'].mean(), df['miss'].mean(), df['rt'].mean())"
   ]
  },
  {
   "cell_type": "code",
   "execution_count": 11,
   "metadata": {},
   "outputs": [
    {
     "name": "stdout",
     "output_type": "stream",
     "text": [
      "1.8762896060943604\n"
     ]
    }
   ],
   "source": [
    "start = time.time()\n",
    "\n",
    "\n",
    "n = 100\n",
    "start_stim = 8\n",
    "end_stim = start_stim + 3\n",
    "ll = np.linspace(-1, 8, n)\n",
    "trials = 100\n",
    "tmax = 13\n",
    "dt = 0.01\n",
    "hr = []\n",
    "v = generate_v_OU(nr_trials = trials, tmax=tmax, dt=dt, start=start_stim, end=end_stim)\n",
    "\n",
    "for i in range(len(ll)):\n",
    "#     v = generate_v_OU(nr_trials = trials, tmax=tmax, dt=dt, start=start_stim, end=end_stim)\n",
    "    \n",
    "    _, _, f, h, m, r = sim(v, ll[i], ll[i], trials, start=start_stim, end=end_stim, tmax=tmax, dt=dt)\n",
    "    \n",
    "    hr.append(h)\n",
    "\n",
    "\n",
    "print(time.time() - start)"
   ]
  },
  {
   "cell_type": "code",
   "execution_count": 12,
   "metadata": {},
   "outputs": [
    {
     "data": {
      "text/plain": [
       "Text(0.5, 1.0, 'hit rate as a function of leak parameter')"
      ]
     },
     "execution_count": 12,
     "metadata": {},
     "output_type": "execute_result"
    },
    {
     "data": {
      "image/png": "[encoded data removed]",
      "text/plain": [
       "<Figure size 432x288 with 1 Axes>"
      ]
     },
     "metadata": {
      "needs_background": "light"
     },
     "output_type": "display_data"
    }
   ],
   "source": [
    "plt.plot(ll, hr)\n",
    "plt.ylabel('hit rate')\n",
    "plt.xlabel('leak parameter')\n",
    "plt.title('hit rate as a function of leak parameter')"
   ]
  },
  {
   "cell_type": "code",
   "execution_count": 23,
   "metadata": {},
   "outputs": [
    {
     "name": "stdout",
     "output_type": "stream",
     "text": [
      "22.78398895263672\n"
     ]
    }
   ],
   "source": [
    "start_time = time.time()\n",
    "\n",
    "\n",
    "n = 20\n",
    "start_stim = 8\n",
    "end_stim = start_stim + 3\n",
    "ll = np.linspace(1, 5, n)\n",
    "trials = 1000\n",
    "tmax = 13\n",
    "dt = 0.01\n",
    "optimal_leak = []\n",
    "end_stim = start_stim + np.arange(1, 5, 0.5)\n",
    "\n",
    "\n",
    "for t in end_stim:\n",
    "    v = generate_v_OU(nr_trials = trials, tmax=tmax, dt=dt, start=start_stim, end=t)\n",
    "    hit = np.zeros(n)\n",
    "    \n",
    "    for i in range(len(ll)):\n",
    "        _, _, f, h, m, r = sim(v, ll[i], ll[i], trials, start=start_stim, end=t, tmax=tmax, dt=dt)\n",
    "        hit[i] = h\n",
    "    \n",
    "    \n",
    "    index = np.argmax(hit)\n",
    "    \n",
    "    optimal_leak.append(ll[index])\n",
    "\n",
    "\n",
    "print(time.time() - start_time)"
   ]
  },
  {
   "cell_type": "code",
   "execution_count": 24,
   "metadata": {},
   "outputs": [
    {
     "data": {
      "text/plain": [
       "Text(0.5, 1.0, 'optimal leak as a function of time of stimulus')"
      ]
     },
     "execution_count": 24,
     "metadata": {},
     "output_type": "execute_result"
    },
    {
     "data": {
      "image/png": "[encoded data removed]",
      "text/plain": [
       "<Figure size 432x288 with 1 Axes>"
      ]
     },
     "metadata": {
      "needs_background": "light"
     },
     "output_type": "display_data"
    }
   ],
   "source": [
    "plt.plot(end_stim-8, optimal_leak)\n",
    "plt.ylabel('optimal leak')\n",
    "plt.xlabel('time of stimulus')\n",
    "plt.title('optimal leak as a function of time of stimulus')"
   ]
  },
  {
   "cell_type": "code",
   "execution_count": null,
   "metadata": {},
   "outputs": [],
   "source": []
  }
 ],
 "metadata": {
  "kernelspec": {
   "display_name": "Python 3",
   "language": "python",
   "name": "python3"
  },
  "language_info": {
   "codemirror_mode": {
    "name": "ipython",
    "version": 3
   },
   "file_extension": ".py",
   "mimetype": "text/x-python",
   "name": "python",
   "nbconvert_exporter": "python",
   "pygments_lexer": "ipython3",
   "version": "3.7.3"
  }
 },
 "nbformat": 4,
 "nbformat_minor": 4
}
